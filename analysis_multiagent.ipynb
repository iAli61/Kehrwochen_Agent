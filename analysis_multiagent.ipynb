{
 "cells": [
  {
   "cell_type": "code",
   "execution_count": 1,
   "metadata": {},
   "outputs": [
    {
     "name": "stderr",
     "output_type": "stream",
     "text": [
      "2025/03/28 09:29:22 INFO mlflow.tracking.fluent: Experiment with name 'DSPy' does not exist. Creating a new experiment.\n"
     ]
    },
    {
     "data": {
      "text/plain": [
       "<Experiment: artifact_location='mlflow-artifacts:/445196460744547779', creation_time=1743154162217, experiment_id='445196460744547779', last_update_time=1743154162217, lifecycle_stage='active', name='DSPy', tags={}>"
      ]
     },
     "execution_count": 1,
     "metadata": {},
     "output_type": "execute_result"
    }
   ],
   "source": [
    "import mlflow\n",
    "\n",
    "mlflow.set_tracking_uri(\"http://127.0.0.1:5000\")\n",
    "mlflow.set_experiment(\"DSPy\")"
   ]
  },
  {
   "cell_type": "code",
   "execution_count": 2,
   "metadata": {},
   "outputs": [
    {
     "name": "stderr",
     "output_type": "stream",
     "text": [
      "/anaconda/envs/pf/lib/python3.11/site-packages/tqdm/auto.py:21: TqdmWarning: IProgress not found. Please update jupyter and ipywidgets. See https://ipywidgets.readthedocs.io/en/stable/user_install.html\n",
      "  from .autonotebook import tqdm as notebook_tqdm\n"
     ]
    }
   ],
   "source": [
    "mlflow.dspy.autolog()"
   ]
  },
  {
   "cell_type": "code",
   "execution_count": null,
   "metadata": {},
   "outputs": [],
   "source": [
    "from dotenv import load_dotenv\n",
    "import os\n",
    "load_dotenv()\n",
    "\n",
    "AZURE_API_KEY = os.getenv(\"AZURE_API_KEY\")\n",
    "AZURE_API_BASE = os.getenv(\"AZURE_API_BASE\")\n",
    "AZURE_API_VERSION = os.getenv(\"AZURE_API_VERSION\")"
   ]
  },
  {
   "cell_type": "code",
   "execution_count": null,
   "metadata": {},
   "outputs": [],
   "source": [
    "import dspy\n",
    "\n",
    "lm = dspy.LM(AZURE_API_KEY, AZURE_API_BASE, AZURE_API_VERSION)"
   ]
  },
  {
   "cell_type": "code",
   "execution_count": 1,
   "metadata": {},
   "outputs": [
    {
     "name": "stderr",
     "output_type": "stream",
     "text": [
      "/anaconda/envs/pf/lib/python3.11/site-packages/tqdm/auto.py:21: TqdmWarning: IProgress not found. Please update jupyter and ipywidgets. See https://ipywidgets.readthedocs.io/en/stable/user_install.html\n",
      "  from .autonotebook import tqdm as notebook_tqdm\n"
     ]
    }
   ],
   "source": [
    "# You can use other orchestration libraries but I found DSPy\n",
    "# good for building fast, simpler and evaluation (making the application more relibale)\n",
    "import dspy\n",
    "\n",
    "# This object inherits from the dspy.Signature class\n",
    "# The text inside \"\"\" is the prompt\n",
    "class analytical_planner(dspy.Signature):\n",
    "    \"\"\" You are data analytics planner agent. You have access to three inputs\n",
    "    1. Datasets\n",
    "    2. Data Agent descriptions\n",
    "    3. User-defined Goal\n",
    "    You take these three inputs to develop a comprehensive plan to achieve the user-defined goal from the data & Agents available.\n",
    "    In case you think the user-defined goal is infeasible you can ask the user to redefine or add more description to the goal.\n",
    "\n",
    "    Give your output in this format:\n",
    "    plan: Agent1->Agent2->Agent3\n",
    "    plan_desc = Use Agent 1 for this reason, then agent2 for this reason and lastly agent3 for this reason.\n",
    "\n",
    "    You don't have to use all the agents in response of the query\n",
    "    \n",
    "    \"\"\"\n",
    "# Input fields and their descriptions\n",
    "    dataset = dspy.InputField(desc=\"Available datasets loaded in the system, use this df_name,columns  set df as copy of df_name\")\n",
    "    Agent_desc = dspy.InputField(desc= \"The agents available in the system\")\n",
    "    goal = dspy.InputField(desc=\"The user defined goal \")\n",
    "# Output fields and their description\n",
    "    plan = dspy.OutputField(desc=\"The plan that would achieve the user defined goal\")\n",
    "    plan_desc= dspy.OutputField(desc=\"The reasoning behind the chosen plan\")"
   ]
  },
  {
   "cell_type": "code",
   "execution_count": null,
   "metadata": {},
   "outputs": [],
   "source": []
  }
 ],
 "metadata": {
  "kernelspec": {
   "display_name": "pf",
   "language": "python",
   "name": "python3"
  },
  "language_info": {
   "codemirror_mode": {
    "name": "ipython",
    "version": 3
   },
   "file_extension": ".py",
   "mimetype": "text/x-python",
   "name": "python",
   "nbconvert_exporter": "python",
   "pygments_lexer": "ipython3",
   "version": "3.11.11"
  }
 },
 "nbformat": 4,
 "nbformat_minor": 2
}
